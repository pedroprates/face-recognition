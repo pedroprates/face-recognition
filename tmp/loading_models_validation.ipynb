{
  "nbformat": 4,
  "nbformat_minor": 0,
  "metadata": {
    "colab": {
      "name": "forward_pass.ipynb",
      "provenance": [],
      "collapsed_sections": [],
      "authorship_tag": "ABX9TyMlg0bLNnS5otCHrpfPsMap",
      "include_colab_link": true
    },
    "kernelspec": {
      "name": "python3",
      "display_name": "Python 3"
    },
    "accelerator": "GPU"
  },
  "cells": [
    {
      "cell_type": "markdown",
      "metadata": {
        "id": "view-in-github",
        "colab_type": "text"
      },
      "source": [
        "<a href=\"https://colab.research.google.com/github/pedroprates/mobile-face-net/blob/tensorflow2/tmp/loading_models_validation.ipynb\" target=\"_parent\"><img src=\"https://colab.research.google.com/assets/colab-badge.svg\" alt=\"Open In Colab\"/></a>"
      ]
    },
    {
      "cell_type": "code",
      "metadata": {
        "id": "E_X4jT2Qy_j2",
        "colab_type": "code",
        "colab": {
          "base_uri": "https://localhost:8080/",
          "height": 34
        },
        "outputId": "3f787498-7985-4df2-aee6-ea83cc2e5ecb"
      },
      "source": [
        "import tensorflow as tf\n",
        "\n",
        "tf.__version__"
      ],
      "execution_count": 1,
      "outputs": [
        {
          "output_type": "execute_result",
          "data": {
            "text/plain": [
              "'1.7.0'"
            ]
          },
          "metadata": {
            "tags": []
          },
          "execution_count": 1
        }
      ]
    },
    {
      "cell_type": "code",
      "metadata": {
        "id": "qbF_Vrf7zKUp",
        "colab_type": "code",
        "colab": {}
      },
      "source": [
        "!pip install tensorflow==1.7"
      ],
      "execution_count": 0,
      "outputs": []
    },
    {
      "cell_type": "markdown",
      "metadata": {
        "id": "_lTwcqgy3V3N",
        "colab_type": "text"
      },
      "source": [
        "# Preparing the Environment\n",
        "\n",
        "Cloning the necessary repositories and downloading the dataset."
      ]
    },
    {
      "cell_type": "markdown",
      "metadata": {
        "id": "uoIDdlSkzhEf",
        "colab_type": "text"
      },
      "source": [
        "## Cloning the repository\n",
        "\n",
        "Cloning the [FaceNet Repository](https://github.com/davidsandberg/facenet)"
      ]
    },
    {
      "cell_type": "code",
      "metadata": {
        "id": "uj6hdp0PzuNb",
        "colab_type": "code",
        "colab": {
          "base_uri": "https://localhost:8080/",
          "height": 102
        },
        "outputId": "a620d56c-1aee-4f3d-926b-12789486f229"
      },
      "source": [
        "!git clone https://github.com/davidsandberg/facenet.git"
      ],
      "execution_count": 2,
      "outputs": [
        {
          "output_type": "stream",
          "text": [
            "Cloning into 'facenet'...\n",
            "remote: Enumerating objects: 3149, done.\u001b[K\n",
            "remote: Total 3149 (delta 0), reused 0 (delta 0), pack-reused 3149\u001b[K\n",
            "Receiving objects: 100% (3149/3149), 2.94 MiB | 4.92 MiB/s, done.\n",
            "Resolving deltas: 100% (2230/2230), done.\n"
          ],
          "name": "stdout"
        }
      ]
    },
    {
      "cell_type": "markdown",
      "metadata": {
        "id": "2i7ukIlqzxMs",
        "colab_type": "text"
      },
      "source": [
        "## Download the validation data\n",
        "\n",
        "Download the [LFW dataset](http://vis-www.cs.umass.edu/lfw/lfw.tgz)"
      ]
    },
    {
      "cell_type": "code",
      "metadata": {
        "id": "AO9XSwxyz2VC",
        "colab_type": "code",
        "colab": {
          "base_uri": "https://localhost:8080/",
          "height": 204
        },
        "outputId": "0e092922-ec91-4263-88f3-a3a6eaffb9d4"
      },
      "source": [
        "!wget http://vis-www.cs.umass.edu/lfw/lfw.tgz"
      ],
      "execution_count": 5,
      "outputs": [
        {
          "output_type": "stream",
          "text": [
            "--2020-05-25 21:51:07--  http://vis-www.cs.umass.edu/lfw/lfw.tgz\n",
            "Resolving vis-www.cs.umass.edu (vis-www.cs.umass.edu)... 128.119.244.95\n",
            "Connecting to vis-www.cs.umass.edu (vis-www.cs.umass.edu)|128.119.244.95|:80... connected.\n",
            "HTTP request sent, awaiting response... 200 OK\n",
            "Length: 180566744 (172M) [application/x-gzip]\n",
            "Saving to: ‘lfw.tgz’\n",
            "\n",
            "lfw.tgz             100%[===================>] 172.20M  30.8MB/s    in 7.7s    \n",
            "\n",
            "2020-05-25 21:51:15 (22.4 MB/s) - ‘lfw.tgz’ saved [180566744/180566744]\n",
            "\n"
          ],
          "name": "stdout"
        }
      ]
    },
    {
      "cell_type": "code",
      "metadata": {
        "id": "M2EdYk6b0ZYi",
        "colab_type": "code",
        "colab": {}
      },
      "source": [
        "# Unwrap the data\n",
        "!mkdir -p datasets/lfw/raw\n",
        "!tar -xzvf lfw.tgz -C datasets/lfw/raw --strip-components=1"
      ],
      "execution_count": 0,
      "outputs": []
    },
    {
      "cell_type": "markdown",
      "metadata": {
        "id": "28jul10v3UPP",
        "colab_type": "text"
      },
      "source": [
        "# Prepare Images\n",
        "\n",
        "Running the MTCNN model on the images to align them for the validation."
      ]
    },
    {
      "cell_type": "code",
      "metadata": {
        "id": "gacpe1Jc4oKa",
        "colab_type": "code",
        "colab": {}
      },
      "source": [
        "!pip install -r facenet/requirements.txt"
      ],
      "execution_count": 0,
      "outputs": []
    },
    {
      "cell_type": "code",
      "metadata": {
        "id": "ZOlsZ-445v8g",
        "colab_type": "code",
        "colab": {
          "base_uri": "https://localhost:8080/",
          "height": 34
        },
        "outputId": "39cf52d2-294b-4232-afb5-9ececbfc5e5e"
      },
      "source": [
        "!export PYTHONPATH=/content/facenet/src\n",
        "!echo $PYTHONPATH"
      ],
      "execution_count": 27,
      "outputs": [
        {
          "output_type": "stream",
          "text": [
            "/env/python\n"
          ],
          "name": "stdout"
        }
      ]
    },
    {
      "cell_type": "code",
      "metadata": {
        "id": "Y3P9z5kv6Jog",
        "colab_type": "code",
        "colab": {
          "base_uri": "https://localhost:8080/",
          "height": 34
        },
        "outputId": "72c93b21-c833-48d3-c9af-4dbb9dcbbc39"
      },
      "source": [
        "import os\n",
        "os.environ['PYTHONPATH'] = '/content/facenet/src'\n",
        "\n",
        "!echo $PYTHONPATH"
      ],
      "execution_count": 28,
      "outputs": [
        {
          "output_type": "stream",
          "text": [
            "/content/facenet/src\n"
          ],
          "name": "stdout"
        }
      ]
    },
    {
      "cell_type": "code",
      "metadata": {
        "id": "c993kImh9trj",
        "colab_type": "code",
        "colab": {
          "base_uri": "https://localhost:8080/",
          "height": 258
        },
        "outputId": "88a64501-922f-4518-f419-61b8e66cff00"
      },
      "source": [
        "import os\n",
        "\n",
        "os.environ['PYTHONPATH'] = '/content/facenet/src'\n",
        "\n",
        "!python -c \"import tensorflow as tf; print(tf.__version__)\""
      ],
      "execution_count": 42,
      "outputs": [
        {
          "output_type": "stream",
          "text": [
            "/usr/local/lib/python3.6/dist-packages/tensorflow/python/framework/dtypes.py:517: FutureWarning: Passing (type, 1) or '1type' as a synonym of type is deprecated; in a future version of numpy, it will be understood as (type, (1,)) / '(1,)type'.\n",
            "  _np_qint8 = np.dtype([(\"qint8\", np.int8, 1)])\n",
            "/usr/local/lib/python3.6/dist-packages/tensorflow/python/framework/dtypes.py:518: FutureWarning: Passing (type, 1) or '1type' as a synonym of type is deprecated; in a future version of numpy, it will be understood as (type, (1,)) / '(1,)type'.\n",
            "  _np_quint8 = np.dtype([(\"quint8\", np.uint8, 1)])\n",
            "/usr/local/lib/python3.6/dist-packages/tensorflow/python/framework/dtypes.py:519: FutureWarning: Passing (type, 1) or '1type' as a synonym of type is deprecated; in a future version of numpy, it will be understood as (type, (1,)) / '(1,)type'.\n",
            "  _np_qint16 = np.dtype([(\"qint16\", np.int16, 1)])\n",
            "/usr/local/lib/python3.6/dist-packages/tensorflow/python/framework/dtypes.py:520: FutureWarning: Passing (type, 1) or '1type' as a synonym of type is deprecated; in a future version of numpy, it will be understood as (type, (1,)) / '(1,)type'.\n",
            "  _np_quint16 = np.dtype([(\"quint16\", np.uint16, 1)])\n",
            "/usr/local/lib/python3.6/dist-packages/tensorflow/python/framework/dtypes.py:521: FutureWarning: Passing (type, 1) or '1type' as a synonym of type is deprecated; in a future version of numpy, it will be understood as (type, (1,)) / '(1,)type'.\n",
            "  _np_qint32 = np.dtype([(\"qint32\", np.int32, 1)])\n",
            "/usr/local/lib/python3.6/dist-packages/tensorflow/python/framework/dtypes.py:526: FutureWarning: Passing (type, 1) or '1type' as a synonym of type is deprecated; in a future version of numpy, it will be understood as (type, (1,)) / '(1,)type'.\n",
            "  np_resource = np.dtype([(\"resource\", np.ubyte, 1)])\n",
            "1.7.0\n"
          ],
          "name": "stdout"
        }
      ]
    },
    {
      "cell_type": "code",
      "metadata": {
        "id": "VAIrfieGD1F9",
        "colab_type": "code",
        "colab": {}
      },
      "source": [
        "# Have to change somethings on the requirements.txt module to avoid errors (fix some versions)\n",
        "# numpy==1.16\n",
        "# scipy==1.1.0\n",
        "\n",
        "!pip install -r /content/facenet/requirements.txt"
      ],
      "execution_count": 0,
      "outputs": []
    },
    {
      "cell_type": "code",
      "metadata": {
        "id": "0_0UCVAx4EIi",
        "colab_type": "code",
        "colab": {}
      },
      "source": [
        "import os\n",
        "\n",
        "os.environ['PYTHONPATH'] = '/content/facenet/src'\n",
        "\n",
        "# Run the code\n",
        "!for N in {1..4}; do \\\n",
        "/usr/bin/python3 /content/facenet/src/align/align_dataset_mtcnn.py \\\n",
        "/content/datasets/lfw/raw \\\n",
        "/content/datasets/lfw/lfw_mtcnnpy_160 \\\n",
        "--image_size 160 \\\n",
        "--margin 32 \\\n",
        "--random_order \\\n",
        "--gpu_memory_fraction 0.25 \\\n",
        "& done"
      ],
      "execution_count": 0,
      "outputs": []
    },
    {
      "cell_type": "markdown",
      "metadata": {
        "id": "cB2wx_yEJ3qi",
        "colab_type": "text"
      },
      "source": [
        "## Downloading models\n",
        "\n",
        "Downloading the models using the Google Drive API, it also could be downloaded [here](https://drive.google.com/open?id=1EXPBSXwTaqrSC0OhUdXNmKSh9qJUQ55-)."
      ]
    },
    {
      "cell_type": "code",
      "metadata": {
        "id": "YuWM5WO6J8hJ",
        "colab_type": "code",
        "colab": {
          "base_uri": "https://localhost:8080/",
          "height": 122
        },
        "outputId": "6fb63fee-2408-429e-bc80-dbac7f58f54f"
      },
      "source": [
        "from google.colab import drive\n",
        "\n",
        "drive.mount('gdrive')"
      ],
      "execution_count": 5,
      "outputs": [
        {
          "output_type": "stream",
          "text": [
            "Go to this URL in a browser: https://accounts.google.com/o/oauth2/auth?client_id=947318989803-6bn6qk8qdgf4n4g3pfee6491hc0brc4i.apps.googleusercontent.com&redirect_uri=urn%3aietf%3awg%3aoauth%3a2.0%3aoob&response_type=code&scope=email%20https%3a%2f%2fwww.googleapis.com%2fauth%2fdocs.test%20https%3a%2f%2fwww.googleapis.com%2fauth%2fdrive%20https%3a%2f%2fwww.googleapis.com%2fauth%2fdrive.photos.readonly%20https%3a%2f%2fwww.googleapis.com%2fauth%2fpeopleapi.readonly\n",
            "\n",
            "Enter your authorization code:\n",
            "··········\n",
            "Mounted at gdrive\n"
          ],
          "name": "stdout"
        }
      ]
    },
    {
      "cell_type": "code",
      "metadata": {
        "id": "r70yXcqTKffV",
        "colab_type": "code",
        "colab": {}
      },
      "source": [
        "# Copying the repository from the Google Drive to the Colab\n",
        "!cp -r '/content/gdrive/My Drive/FaceRecognition/models' 'models/'"
      ],
      "execution_count": 0,
      "outputs": []
    },
    {
      "cell_type": "code",
      "metadata": {
        "id": "wO-GIps9McvO",
        "colab_type": "code",
        "colab": {
          "base_uri": "https://localhost:8080/",
          "height": 360
        },
        "outputId": "23b1c8ad-eac5-42fe-eb95-31a64234e727"
      },
      "source": [
        "import os\n",
        "\n",
        "os.environ['PYTHONPATH'] = '/content/facenet/src'\n",
        "\n",
        "# Run code\n",
        "!/usr/bin/python3 /content/facenet/src/validate_on_lfw.py \\\n",
        "/content/datasets/lfw/lfw_mtcnnpy_160 \\\n",
        "/content/models/facenet/20180402-114759 \\\n",
        "--distance_metric 1 \\\n",
        "--use_flipped_images \\\n",
        "--subtract_mean \\\n",
        "--lfw_pairs /content/facenet/data/pairs.txt \\\n",
        "--use_fixed_image_standardization"
      ],
      "execution_count": 18,
      "outputs": [
        {
          "output_type": "stream",
          "text": [
            "2020-05-25 23:49:29.159650: I tensorflow/core/platform/cpu_feature_guard.cc:140] Your CPU supports instructions that this TensorFlow binary was not compiled to use: AVX2 AVX512F FMA\n",
            "Model directory: /content/models/facenet/20180402-114759\n",
            "Metagraph file: model-20180402-114759.meta\n",
            "Checkpoint file: model-20180402-114759.ckpt-275\n",
            "Runnning forward pass on LFW images\n",
            "........................\n",
            "Accuracy: 0.99550+-0.00342\n",
            "Validation rate: 0.98600+-0.00975 @ FAR=0.00100\n",
            "Area Under Curve (AUC): 1.000\n",
            "Equal Error Rate (EER): 0.004\n",
            "2020-05-26 00:38:02.846089: W tensorflow/core/kernels/queue_base.cc:277] _2_input_producer: Skipping cancelled enqueue attempt with queue not closed\n",
            "2020-05-26 00:38:02.847185: W tensorflow/core/kernels/queue_base.cc:285] _0_FIFOQueueV2: Skipping cancelled dequeue attempt with queue not closed\n",
            "2020-05-26 00:38:02.847270: W tensorflow/core/kernels/queue_base.cc:285] _0_FIFOQueueV2: Skipping cancelled dequeue attempt with queue not closed\n",
            "2020-05-26 00:38:02.847295: W tensorflow/core/kernels/queue_base.cc:285] _0_FIFOQueueV2: Skipping cancelled dequeue attempt with queue not closed\n",
            "2020-05-26 00:38:02.847308: W tensorflow/core/kernels/queue_base.cc:285] _0_FIFOQueueV2: Skipping cancelled dequeue attempt with queue not closed\n",
            "2020-05-26 00:38:02.847318: W tensorflow/core/kernels/queue_base.cc:285] _0_FIFOQueueV2: Skipping cancelled dequeue attempt with queue not closed\n",
            "2020-05-26 00:38:02.847328: W tensorflow/core/kernels/queue_base.cc:285] _0_FIFOQueueV2: Skipping cancelled dequeue attempt with queue not closed\n",
            "2020-05-26 00:38:02.847339: W tensorflow/core/kernels/queue_base.cc:285] _0_FIFOQueueV2: Skipping cancelled dequeue attempt with queue not closed\n",
            "2020-05-26 00:38:02.847349: W tensorflow/core/kernels/queue_base.cc:285] _0_FIFOQueueV2: Skipping cancelled dequeue attempt with queue not closed\n"
          ],
          "name": "stdout"
        }
      ]
    }
  ]
}